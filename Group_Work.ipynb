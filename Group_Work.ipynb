{
  "nbformat": 4,
  "nbformat_minor": 0,
  "metadata": {
    "colab": {
      "provenance": [],
      "include_colab_link": true
    },
    "kernelspec": {
      "name": "python3",
      "display_name": "Python 3"
    },
    "language_info": {
      "name": "python"
    }
  },
  "cells": [
    {
      "cell_type": "markdown",
      "metadata": {
        "id": "view-in-github",
        "colab_type": "text"
      },
      "source": [
        "<a href=\"https://colab.research.google.com/github/zippy345/dsc-accessing-data-with-pandas/blob/master/Group_Work.ipynb\" target=\"_parent\"><img src=\"https://colab.research.google.com/assets/colab-badge.svg\" alt=\"Open In Colab\"/></a>"
      ]
    },
    {
      "cell_type": "code",
      "execution_count": null,
      "metadata": {
        "id": "zV47biNRrUku"
      },
      "outputs": [],
      "source": [
        "# Challenge 1\n",
        "# Let's now write a program that reads an integer\n",
        "# from a user then displays a message indicating\n",
        "# whether the integer is even or odd.\n",
        "#"
      ]
    },
    {
      "cell_type": "code",
      "source": [
        "integer= None\n",
        "number=int(input('enter message...'))\n",
        "if number % 2==0:\n",
        "  print('Even')\n",
        "elif number!= 2 :\n",
        "  print(\"odd\")\n",
        "else:\n",
        "  print(\"invalid\")"
      ],
      "metadata": {
        "colab": {
          "base_uri": "https://localhost:8080/"
        },
        "id": "hpIIa2waxy8p",
        "outputId": "4bba0315-b9ba-4458-9703-d40974363464"
      },
      "execution_count": 45,
      "outputs": [
        {
          "output_type": "stream",
          "name": "stdout",
          "text": [
            "enter message...8\n",
            "Even\n"
          ]
        }
      ]
    },
    {
      "cell_type": "code",
      "source": [
        "# Challenge 2:\n",
        "# We now write a program that reads a input from a user.\n",
        "# If the user enters a, e, i, o or u then our program should\n",
        "# display a message indicating that the entered letter is a vowel.\n",
        "# If our user enters y then our program should display a message\n",
        "# indicating that sometimes y is a vowel, and sometimes y is a consonant.\n",
        "# Otherwise our program should display a message indicating that the\n",
        "# letter is a consonant.\n",
        "#"
      ],
      "metadata": {
        "id": "RW56tCYfrgBF"
      },
      "execution_count": null,
      "outputs": []
    },
    {
      "cell_type": "code",
      "source": [
        "vowel=['a','e','i','o','u']\n",
        "Half_vowel='y'\n",
        "letter=input(\"enter letter...\")\n",
        "if vowel in vowel == 'a'or'e'or'i'or'u':\n",
        "  print(\"the letter entered is a vowel\")\n",
        "elif Half_vowel in Half_vowel =='y':\n",
        "  print('the letter entered is a half vowel')\n",
        "else:\n",
        "  print(\"No letter entered\")\n",
        "\n"
      ],
      "metadata": {
        "colab": {
          "base_uri": "https://localhost:8080/"
        },
        "id": "i3dwTsbw2L6G",
        "outputId": "7370db4b-7160-4d1e-c660-295cac08021b"
      },
      "execution_count": 39,
      "outputs": [
        {
          "output_type": "stream",
          "name": "stdout",
          "text": [
            "enter letter...e\n",
            "the letter entered is a vowel\n"
          ]
        }
      ]
    },
    {
      "cell_type": "code",
      "source": [
        "# Challenge 3\n",
        "# Let's now also write another program that asks for a number and computes the\n",
        "# square of that number. If the square is 100 or greater, print the squared value\n",
        "# and the word 'big'. Otherwise if the square is 50 or greater, print the\n",
        "# squared value and the word 'medium'. Otherwise just print 'too small to bother with'.\n",
        "# Hint: To compute squared, use x*x or x**2\n",
        "#"
      ],
      "metadata": {
        "id": "-JPrNIT1rk9D"
      },
      "execution_count": null,
      "outputs": []
    },
    {
      "cell_type": "code",
      "source": [
        "Number=int(input(\"enter number...\"))\n",
        "square=Number**2\n",
        "if square >= 100:\n",
        "  print(square,\"big\")\n",
        "elif square >=50:\n",
        "  print(square, \"medium\")\n",
        "else:\n",
        "  print(\"too small\")\n"
      ],
      "metadata": {
        "colab": {
          "base_uri": "https://localhost:8080/"
        },
        "id": "WTZYwHbu945Y",
        "outputId": "a2905385-9a7c-49b3-a349-f4622f20d73c"
      },
      "execution_count": 38,
      "outputs": [
        {
          "output_type": "stream",
          "name": "stdout",
          "text": [
            "enter number...80\n",
            "6400 big\n"
          ]
        }
      ]
    },
    {
      "cell_type": "code",
      "source": [
        "num_input= input(\"enter no. separated by space:\")\n",
        "num_string=num_input.split()\n",
        "numbers =[list(num)for num in num_string]\n",
        "for x in numbers:\n",
        "  squared = x2\n",
        "  if squared>= 100:\n",
        "    print(f'{squared} Big')\n",
        "  elif squared>=50:\n",
        "    print(f'{squared}Medium')\n",
        "  else:\n",
        "    print('Too small to bother with')\n",
        "\n"
      ],
      "metadata": {
        "id": "VRcBChJ8XoKv",
        "outputId": "ab4c4806-92f7-45a2-e796-8f63cf3ef187",
        "colab": {
          "base_uri": "https://localhost:8080/",
          "height": 224
        }
      },
      "execution_count": 1,
      "outputs": [
        {
          "name": "stdout",
          "output_type": "stream",
          "text": [
            "enter no. separated by space:30 40 50 60\n"
          ]
        },
        {
          "output_type": "error",
          "ename": "TypeError",
          "evalue": "unsupported operand type(s) for ** or pow(): 'list' and 'int'",
          "traceback": [
            "\u001b[0;31m---------------------------------------------------------------------------\u001b[0m",
            "\u001b[0;31mTypeError\u001b[0m                                 Traceback (most recent call last)",
            "\u001b[0;32m<ipython-input-1-dca6e5808cf1>\u001b[0m in \u001b[0;36m<cell line: 0>\u001b[0;34m()\u001b[0m\n\u001b[1;32m      3\u001b[0m \u001b[0mnumbers\u001b[0m \u001b[0;34m=\u001b[0m\u001b[0;34m[\u001b[0m\u001b[0mlist\u001b[0m\u001b[0;34m(\u001b[0m\u001b[0mnum\u001b[0m\u001b[0;34m)\u001b[0m\u001b[0;32mfor\u001b[0m \u001b[0mnum\u001b[0m \u001b[0;32min\u001b[0m \u001b[0mnum_string\u001b[0m\u001b[0;34m]\u001b[0m\u001b[0;34m\u001b[0m\u001b[0;34m\u001b[0m\u001b[0m\n\u001b[1;32m      4\u001b[0m \u001b[0;32mfor\u001b[0m \u001b[0mx\u001b[0m \u001b[0;32min\u001b[0m \u001b[0mnumbers\u001b[0m\u001b[0;34m:\u001b[0m\u001b[0;34m\u001b[0m\u001b[0;34m\u001b[0m\u001b[0m\n\u001b[0;32m----> 5\u001b[0;31m   \u001b[0msquared\u001b[0m \u001b[0;34m=\u001b[0m\u001b[0mx\u001b[0m\u001b[0;34m**\u001b[0m\u001b[0;36m2\u001b[0m\u001b[0;34m\u001b[0m\u001b[0;34m\u001b[0m\u001b[0m\n\u001b[0m\u001b[1;32m      6\u001b[0m   \u001b[0;32mif\u001b[0m \u001b[0msquared\u001b[0m\u001b[0;34m>=\u001b[0m \u001b[0;36m100\u001b[0m\u001b[0;34m:\u001b[0m\u001b[0;34m\u001b[0m\u001b[0;34m\u001b[0m\u001b[0m\n\u001b[1;32m      7\u001b[0m     \u001b[0mprint\u001b[0m\u001b[0;34m(\u001b[0m\u001b[0;34mf'{squared} Big'\u001b[0m\u001b[0;34m)\u001b[0m\u001b[0;34m\u001b[0m\u001b[0;34m\u001b[0m\u001b[0m\n",
            "\u001b[0;31mTypeError\u001b[0m: unsupported operand type(s) for ** or pow(): 'list' and 'int'"
          ]
        }
      ]
    },
    {
      "cell_type": "code",
      "source": [
        "# Challenge 4\n",
        "# Let's write a program that reads a month and day from the user.\n",
        "# If the month and day matches one of the holidays listed previously\n",
        "# then the program should display the Kenyan holiday’s name.\n",
        "# Otherwise our program should indicate that the entered month and day\n",
        "# do not correspond to a holiday. (You should use the else keyword)"
      ],
      "metadata": {
        "id": "5qNMoTrQrrn2"
      },
      "execution_count": null,
      "outputs": []
    },
    {
      "cell_type": "code",
      "source": [
        "kenyan_holiday=[\"New year\",\"Labor day\",\"madaraka day\",\"Mashujaa day\",\"jamuhuri day\",\"Christmass\"]\n",
        "month_and_day=input(\"enter date as (Month day)...\")\n",
        "if month_and_day== 'Jan 1':\n",
        "  print(kenyan_holiday[0])\n",
        "elif month_and_day== \"May 1\":\n",
        "  print(kenyan_holiday[1])\n",
        "elif month_and_day== \"June 1\":\n",
        "  print(kenyan_holiday[2])\n",
        "elif month_and_day== \"October 20\":\n",
        "  print(kenyan_holiday[3])\n",
        "elif month_and_day== \"December 12\":\n",
        "  print(kenyan_holiday[4])\n",
        "elif month_and_day== \"December 25\":\n",
        "  print(kenyan_holiday[5])\n",
        "else:\n",
        "  print(\"Invalid\")\n",
        "\n"
      ],
      "metadata": {
        "colab": {
          "base_uri": "https://localhost:8080/"
        },
        "id": "kN4VFbpmCRsC",
        "outputId": "65f0fb04-39b5-42d8-d802-5893227060bc"
      },
      "execution_count": 9,
      "outputs": [
        {
          "output_type": "stream",
          "name": "stdout",
          "text": [
            "enter date as (Month day)...May 1\n",
            "Labor day\n"
          ]
        }
      ]
    },
    {
      "cell_type": "code",
      "source": [
        "# Challenge 5\n",
        "# Write a program that reads a wavelength from the user and reports its color.\n",
        "# Display an appropriate error message if the wavelength entered by the user\n",
        "# is outside of the visible spectrum.\n",
        "# (You can do external research on this challenge to determine the wavelength).\n",
        "# You should use the else keyword.\n",
        "#"
      ],
      "metadata": {
        "id": "8vR2bNUArvsE"
      },
      "execution_count": null,
      "outputs": []
    },
    {
      "cell_type": "markdown",
      "source": [
        "# The wavelength of visible light ranges from 380 to 750 nanometers (nm). While the spectrum is continuous, it is often divided into 6 colors as shown in this table:"
      ],
      "metadata": {
        "id": "SUW6K-ITvmqY"
      }
    },
    {
      "cell_type": "markdown",
      "source": [
        "#Colour\t   Wavelength (nm):\n",
        "\n",
        "\n",
        "1.   Violet\t380 to less than 450\n",
        "2.   Blue\t450 to less than 495\n",
        "\n",
        "3.   Green\t495 to less than 570\n",
        "4.   Yellow\t570 to less than 590\n",
        "5.   Orange\t590 to less than 620\n",
        "6.   Red\t620 to 750\n",
        "\n"
      ],
      "metadata": {
        "id": "E-puSr60qRbo"
      }
    },
    {
      "cell_type": "code",
      "source": [
        "# conduct a program that reads a wavelenght from the user and it reports its wave lenghts.\n",
        "wavelenght= int(input(\"enter digit...\"))\n",
        "if wavelenght < 380:\n",
        "  print(\"too low\")\n",
        "elif wavelenght < 450:\n",
        "  print(\"Violet\")\n",
        "elif wavelenght < 495:\n",
        "  print(\"Blue\")\n",
        "elif wavelenght < 570:\n",
        "  print(\"green\")\n",
        "elif wavelenght < 590:\n",
        "  print(\"yellow\")\n",
        "elif wavelenght < 620:\n",
        "  print(\"orange\")\n",
        "elif wavelenght < 750:\n",
        "  print(\"red\")\n",
        "else:\n",
        "  print(\"too high\")"
      ],
      "metadata": {
        "colab": {
          "base_uri": "https://localhost:8080/"
        },
        "id": "e6ptFsJGYqav",
        "outputId": "0e30217b-216a-4468-f4ee-29fb36310384"
      },
      "execution_count": 1,
      "outputs": [
        {
          "output_type": "stream",
          "name": "stdout",
          "text": [
            "enter digit...650\n",
            "red\n"
          ]
        }
      ]
    },
    {
      "cell_type": "code",
      "source": [
        "# Challenge 6\n",
        "# Let's create a program that reads the name of a month from the user as a string,\n",
        "# then displays the number of days in that month.\n",
        "# The length of a month varies from 28 to 31 days.\n",
        "# The program needs to also display “28 or 29 days” for February\n",
        "# so that leap years are taken into account.\n",
        "# The program should use the else keyword."
      ],
      "metadata": {
        "id": "0HionoB-r5ew"
      },
      "execution_count": null,
      "outputs": []
    },
    {
      "cell_type": "code",
      "source": [
        "days=None\n",
        "month=input(\"enter month...\")\n",
        "if month in [\"January\",\"March\",\"May\",\"July\",\"August\",\"October\",\"December\"]:\n",
        "  print(\"31 days\")\n",
        "elif month in [\"April\",\"June\",\"september\",\"November\"]:\n",
        "  print(\"30 days\")\n",
        "elif month == \"february\":\n",
        "  print(\"28/29 days\")\n",
        "else:\n",
        "  print(\"Try again\")\n",
        "\n"
      ],
      "metadata": {
        "colab": {
          "base_uri": "https://localhost:8080/"
        },
        "id": "Tk7hIwnCZVnr",
        "outputId": "a7aadbac-3f65-48ce-ed7f-1454452d45a4"
      },
      "execution_count": 32,
      "outputs": [
        {
          "output_type": "stream",
          "name": "stdout",
          "text": [
            "enter month...May\n",
            "31 days\n"
          ]
        }
      ]
    },
    {
      "cell_type": "code",
      "source": [
        "#Challenge 7\n",
        "# Given the 3 sides of a triangle x, y and z, let's find out\n",
        "# whether the triangle is equilateral, isosceles or obtuse.\n",
        "# Note: An equilateral triagnle has all sides are equal,\n",
        "# isosceles means that two of the sides are equal but not the third one,\n",
        "# obtuse means all 3 are different. The user will be prompted\n",
        "# to provide the values of x, y and z\n",
        "#"
      ],
      "metadata": {
        "id": "ZNxqKBiwsDiq"
      },
      "execution_count": null,
      "outputs": []
    },
    {
      "cell_type": "code",
      "source": [
        "x=input(\"enter x...\")\n",
        "y=input(\"enter y...\")\n",
        "z=input(\"enter z...\")\n",
        "if x == y and x == z and y == z:\n",
        "  print(\"its an equilateral triangle\")\n",
        "elif (x == y and x != z) or (x == z and x != y) or (y == z and y != z):\n",
        "  print(\"its an isosceles triangle\")\n",
        "else:\n",
        "  print(\"its an obtuse \")"
      ],
      "metadata": {
        "colab": {
          "base_uri": "https://localhost:8080/"
        },
        "id": "yrbPRXcGh2iK",
        "outputId": "e14c5b78-09bc-47fa-9d2a-c9692a523aca"
      },
      "execution_count": 7,
      "outputs": [
        {
          "output_type": "stream",
          "name": "stdout",
          "text": [
            "enter x...70\n",
            "enter y...70\n",
            "enter z...40\n",
            "its an isosceles triangle\n"
          ]
        }
      ]
    },
    {
      "cell_type": "code",
      "source": [],
      "metadata": {
        "id": "WFEnwTJNm6Qp"
      },
      "execution_count": null,
      "outputs": []
    }
  ]
}